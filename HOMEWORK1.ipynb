{
 "cells": [
  {
   "cell_type": "code",
   "execution_count": null,
   "id": "4042b936-0b4a-4a4b-9bd4-2de5a38cc3a2",
   "metadata": {},
   "outputs": [],
   "source": [
    "import geopandas as gpd"
   ]
  },
  {
   "cell_type": "code",
   "execution_count": null,
   "id": "f36e6800-350b-4d84-a76d-c9d7583dc1a2",
   "metadata": {},
   "outputs": [],
   "source": [
    "DIR_DATA='https://raw.githubusercontent.com/meade68/DACSS_603D_Week04_HW1/refs/heads/main/DATA/'\n",
    "JSON_WORLDINDICATORS = 'worldindicators.json'"
   ]
  },
  {
   "cell_type": "code",
   "execution_count": null,
   "id": "4243e215-8d48-45cf-948c-d4363fb5b5d6",
   "metadata": {},
   "outputs": [],
   "source": [
    "#read world\n",
    "WORLD=gpd.read_file(DIR_DATA+JSON_WORLDINDICATORS)\n",
    "\n",
    "#filter to a specific region\n",
    "EUROPE= WORLD[ WORLD['region']== 'EUROPE' ]\n",
    "EUROPE.plot()\n",
    "EUROPE.head()"
   ]
  },
  {
   "cell_type": "code",
   "execution_count": null,
   "id": "28e1e71d-e38a-4e33-8f30-b831441dfdb8",
   "metadata": {},
   "outputs": [],
   "source": [
    "LYR_DOT_DENSITY= EUROPE.copy()\n",
    "#LYR_DOT_DENSITY.head()\n",
    "LYR_DOT_DENSITY.set_index('Country',inplace=True)\n",
    "LYR_DOT_DENSITY['Dot_density']= (EUROPE['mobiles'] / 25000).astype(int).values \n",
    "LYR_DOT_DENSITY['geometry']= LYR_DOT_DENSITY.sample_points(size=LYR_DOT_DENSITY['Dot_density'],rng=123)"
   ]
  },
  {
   "cell_type": "code",
   "execution_count": null,
   "id": "150f2368-ccc2-4b84-84a9-623a550034cd",
   "metadata": {},
   "outputs": [],
   "source": [
    " EUROPE=EUROPE.to_crs(3035)"
   ]
  },
  {
   "cell_type": "code",
   "execution_count": null,
   "id": "68c57c19-1443-415f-a616-8be3ba81cf7f",
   "metadata": {
    "scrolled": true
   },
   "outputs": [],
   "source": [
    "BASE= EUROPE.to_crs(3035)\n",
    "LYR_DOT_DENSITY = LYR_DOT_DENSITY.to_crs(3035)\n",
    "\n",
    "BASE_MAP=BASE.plot(facecolor='white',edgecolor='lightblue')\n",
    "LYR_DOT_DENSITY.to_crs(3035).plot(markersize=.02,color='darkblue',ax=BASE_MAP,alpha=.2)\n"
   ]
  },
  {
   "cell_type": "code",
   "execution_count": null,
   "id": "4d345c47-a7e5-41a5-b923-92a84f70694a",
   "metadata": {},
   "outputs": [],
   "source": [
    "\n",
    "\n",
    "\n",
    "\n",
    "LYR_DOT_DENSITY.to_file('EUROPE_3035.gpkg',driver='GPKG',layer='DOT_DENSITY')\n",
    "BASE.to_file('EUROPE_3035.gpkg',driver='GPKG',layer='BASEMAP')"
   ]
  },
  {
   "cell_type": "code",
   "execution_count": null,
   "id": "8cb5291d-eb08-4f27-a0af-1dccb15f7bcc",
   "metadata": {},
   "outputs": [],
   "source": [
    "LYR_CHORO= EUROPE.copy()\n",
    "LYR_CHORO['mobiles_pcapita']= LYR_CHORO.mobiles/LYR_CHORO.population"
   ]
  },
  {
   "cell_type": "code",
   "execution_count": null,
   "id": "aeb776ff-4f11-4c9e-a6c1-7264a81487bb",
   "metadata": {},
   "outputs": [],
   "source": [
    "#Begin Choropleth stuff.\n",
    "\n",
    "import mapclassify\n",
    "import numpy as np\n",
    "import pandas as pd\n",
    "\n",
    "np.random.seed(123)\n",
    "\n",
    "#five intervals\n",
    "K=5\n",
    "classify=LYR_CHORO['mobiles_pcapita']\n",
    "\n",
    "ei5=mapclassify.EqualInterval(classify)\n",
    "q5=mapclassify.Quantiles(classify,k=K)\n",
    "msd = mapclassify.StdMean(classify)\n",
    "\n",
    "# based on similarity, good for multimodal data\n",
    "mb5 = mapclassify.MaximumBreaks(classify, k=K)\n",
    "# based on similarity, good for skewed data\n",
    "ht = mapclassify.HeadTailBreaks(classify) # no K needed\n",
    "# based on similarity, optimizer\n",
    "fj5 = mapclassify.FisherJenks(classify, k=K)\n",
    "# based on similarity, optimizer\n",
    "jc5 = mapclassify.JenksCaspall(classify, k=K)\n",
    "# based on similarity, optimizer\n",
    "mp5 = mapclassify.MaxP(classify, k=K)\n",
    "\n",
    "\n",
    "\n",
    "class5 = ei5,msd, q5,mb5,  ht, fj5, jc5, mp5\n",
    "# Collect ADCM for each classifier\n",
    "fits = np.array([ c.adcm for c in class5])\n",
    "# Convert ADCM scores to a DataFrame\n",
    "adcms = pd.DataFrame(fits)\n",
    "# Add classifier names\n",
    "adcms['classifier'] = [c.name for c in class5]\n",
    "# Add column names to the ADCM\n",
    "adcms.columns = ['ADCM', 'Classifier']\n",
    "\n",
    "\n",
    "adcms.sort_values('ADCM').plot.barh(x='Classifier')"
   ]
  },
  {
   "cell_type": "code",
   "execution_count": null,
   "id": "3d6e7139-1ff4-40bf-b0e9-14fb4818ad1d",
   "metadata": {},
   "outputs": [],
   "source": [
    "#keep the lowest\n",
    "LYR_CHORO['mobiles_pcapita_FJ5']=fj5.yb\n",
    "LYR_CHORO"
   ]
  },
  {
   "cell_type": "code",
   "execution_count": null,
   "id": "ef1c1aaa-d7a7-4476-9dcf-0bb907e3bc0b",
   "metadata": {},
   "outputs": [],
   "source": [
    "# renaming\n",
    "newLabelsForLevels={0:\"0_VeryLow\", 1:\"1_Low\", 2:\"2_Middle\", 3:\"3_High\", 4:\"4_VeryHigh\"}\n",
    "\n",
    "LYR_CHORO['mobiles_pcapita_FJ5_cat']=LYR_CHORO.loc[:,'mobiles_pcapita_FJ5'].replace(newLabelsForLevels)\n",
    "\n",
    "# we have\n",
    "LYR_CHORO.head(20)"
   ]
  },
  {
   "cell_type": "code",
   "execution_count": null,
   "id": "a251ec5f-0a63-47b2-bd6c-09a6e1bdc857",
   "metadata": {},
   "outputs": [],
   "source": [
    "#Save to file\n",
    "LYR_CHORO.to_file('EUROPE_3035.gpkg',driver='GPKG',layer='CHOROPLETH')"
   ]
  },
  {
   "cell_type": "code",
   "execution_count": null,
   "id": "e1275d63-e771-4e2e-a46a-855b09626ef6",
   "metadata": {
    "scrolled": true
   },
   "outputs": [],
   "source": [
    "##Startt proportional symbol stuff\n",
    "import numpy as np\n",
    "LYR_PROP_SYMBOL= EUROPE.copy()\n",
    "max_size=40\n",
    "min_size=1\n",
    "\n",
    "scaled_sizes = np.sqrt(\n",
    "    (LYR_PROP_SYMBOL.mobiles - LYR_PROP_SYMBOL.mobiles.min()) / (LYR_PROP_SYMBOL.mobiles.max() - LYR_PROP_SYMBOL.mobiles.min())\n",
    ") * (max_size-1) + min_size\n",
    "\n",
    "scaled_sizes.sort_values()\n",
    "LYR_PROP_SYMBOL['size']= scaled_sizes.values"
   ]
  },
  {
   "cell_type": "code",
   "execution_count": null,
   "id": "86dce48f-1586-4953-b30c-13a23ac016e3",
   "metadata": {},
   "outputs": [],
   "source": [
    "LYR_PROP_SYMBOL.set_index('Country',inplace=True)\n",
    "\n",
    "#this is just a copy (new index names)\n",
    "LYR_PROP_SYMBOL.head()"
   ]
  },
  {
   "cell_type": "code",
   "execution_count": null,
   "id": "6915ccfd-75db-46d6-9d54-8a2a5031d83e",
   "metadata": {},
   "outputs": [],
   "source": [
    "\n",
    "LYR_PROP_SYMBOL['geometry']=LYR_PROP_SYMBOL['geometry'].centroid\n",
    "\n",
    "\n"
   ]
  },
  {
   "cell_type": "code",
   "execution_count": null,
   "id": "d60e15c5-b1ed-4d0e-9614-05c0b98e08d6",
   "metadata": {},
   "outputs": [],
   "source": [
    "LYR_PROP_SYMBOL"
   ]
  },
  {
   "cell_type": "code",
   "execution_count": null,
   "id": "a06833b0-5608-4b6f-aa2c-987c88429f9e",
   "metadata": {},
   "outputs": [],
   "source": [
    "LYR_PROP_SYMBOL.plot(\n",
    "    markersize=LYR_PROP_SYMBOL['size'],\n",
    "    color='black'\n",
    ")"
   ]
  },
  {
   "cell_type": "code",
   "execution_count": null,
   "id": "e5186a53-7940-4450-bd3a-03015b1e1893",
   "metadata": {},
   "outputs": [],
   "source": [
    "LYR_PROP_SYMBOL.to_file('EUROPE_3035.gpkg',driver='GPKG',layer='PROP_SYMBOL')"
   ]
  }
 ],
 "metadata": {
  "kernelspec": {
   "display_name": "geo_env",
   "language": "python",
   "name": "geo_env"
  },
  "language_info": {
   "codemirror_mode": {
    "name": "ipython",
    "version": 3
   },
   "file_extension": ".py",
   "mimetype": "text/x-python",
   "name": "python",
   "nbconvert_exporter": "python",
   "pygments_lexer": "ipython3",
   "version": "3.13.5"
  }
 },
 "nbformat": 4,
 "nbformat_minor": 5
}
